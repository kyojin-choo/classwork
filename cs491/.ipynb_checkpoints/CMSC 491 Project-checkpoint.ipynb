{
 "cells": [
  {
   "cell_type": "markdown",
   "metadata": {},
   "source": [
    "# How Education Affects Crime in Baltimore, MD\n",
    "### <i> Daniel Choo & Adrianne Santinor </i>\n",
    "\n",
    "<p>For this project, we decided to see if there was any significant relationship between libraries in Baltimore and any victim-based crimes that occur in each branch's area. We used the following datasets from <a href=\"https://data.baltimorecity.gov/\">OpenBaltimore</a>:\n",
    "    <ul>\n",
    "        <li><strong>Libraries</strong>: this data set shows the location of Baltimore City public libraries listed on the Enoch Pratt Library website.</li>\n",
    "        <li><strong>BPD Part 1 Victim Based Crime Data</strong>: this data set shows all victim-based data reported by the Baltimore Police department from 2014 to April 20<sup>th</sup>, 2019</li>\n",
    "    </ul>\n",
    "</p>"
   ]
  },
  {
   "cell_type": "code",
   "execution_count": null,
   "metadata": {},
   "outputs": [],
   "source": [
    "import numpy as np\n",
    "import pandas as pd\n",
    "\n",
    "lib = pd.read_csv('../Libraries.csv')\n",
    "crime = pd.read_csv('../BPD_Part_1_Victim_Based_Crime_Data.csv')\n",
    "lib.head()"
   ]
  },
  {
   "cell_type": "code",
   "execution_count": 3,
   "metadata": {},
   "outputs": [
    {
     "data": {
      "text/html": [
       "<div>\n",
       "<style scoped>\n",
       "    .dataframe tbody tr th:only-of-type {\n",
       "        vertical-align: middle;\n",
       "    }\n",
       "\n",
       "    .dataframe tbody tr th {\n",
       "        vertical-align: top;\n",
       "    }\n",
       "\n",
       "    .dataframe thead th {\n",
       "        text-align: right;\n",
       "    }\n",
       "</style>\n",
       "<table border=\"1\" class=\"dataframe\">\n",
       "  <thead>\n",
       "    <tr style=\"text-align: right;\">\n",
       "      <th></th>\n",
       "      <th>CrimeDate</th>\n",
       "      <th>CrimeTime</th>\n",
       "      <th>CrimeCode</th>\n",
       "      <th>Location</th>\n",
       "      <th>Description</th>\n",
       "      <th>Inside/Outside</th>\n",
       "      <th>Weapon</th>\n",
       "      <th>Post</th>\n",
       "      <th>District</th>\n",
       "      <th>Neighborhood</th>\n",
       "      <th>Longitude</th>\n",
       "      <th>Latitude</th>\n",
       "      <th>Location 1</th>\n",
       "      <th>Premise</th>\n",
       "      <th>crimeCaseNumber</th>\n",
       "      <th>Total Incidents</th>\n",
       "    </tr>\n",
       "  </thead>\n",
       "  <tbody>\n",
       "    <tr>\n",
       "      <th>0</th>\n",
       "      <td>04/20/2019</td>\n",
       "      <td>9:50:00 PM</td>\n",
       "      <td>6D</td>\n",
       "      <td>MILTON AV &amp; E BALTIMORE ST</td>\n",
       "      <td>LARCENY FROM AUTO</td>\n",
       "      <td>NaN</td>\n",
       "      <td>NaN</td>\n",
       "      <td>222.0</td>\n",
       "      <td>SOUTHEASTERN</td>\n",
       "      <td>Patterson Place</td>\n",
       "      <td>-76.58188</td>\n",
       "      <td>39.29200</td>\n",
       "      <td>NaN</td>\n",
       "      <td>NaN</td>\n",
       "      <td>NaN</td>\n",
       "      <td>1</td>\n",
       "    </tr>\n",
       "    <tr>\n",
       "      <th>1</th>\n",
       "      <td>04/20/2019</td>\n",
       "      <td>9:23:00 AM</td>\n",
       "      <td>4E</td>\n",
       "      <td>2100 CRIMEA RD</td>\n",
       "      <td>COMMON ASSAULT</td>\n",
       "      <td>I</td>\n",
       "      <td>NaN</td>\n",
       "      <td>821.0</td>\n",
       "      <td>SOUTHWESTERN</td>\n",
       "      <td>Wakefield</td>\n",
       "      <td>-76.70306</td>\n",
       "      <td>39.31018</td>\n",
       "      <td>NaN</td>\n",
       "      <td>ROW/TOWNHOUSE-OCC</td>\n",
       "      <td>NaN</td>\n",
       "      <td>1</td>\n",
       "    </tr>\n",
       "    <tr>\n",
       "      <th>2</th>\n",
       "      <td>04/20/2019</td>\n",
       "      <td>9:20:00 AM</td>\n",
       "      <td>6D</td>\n",
       "      <td>2700 LIGHTHOUSE PT E</td>\n",
       "      <td>LARCENY FROM AUTO</td>\n",
       "      <td>I</td>\n",
       "      <td>NaN</td>\n",
       "      <td>232.0</td>\n",
       "      <td>SOUTHEASTERN</td>\n",
       "      <td>Canton</td>\n",
       "      <td>-76.57800</td>\n",
       "      <td>39.27800</td>\n",
       "      <td>NaN</td>\n",
       "      <td>OTHER - INSIDE</td>\n",
       "      <td>NaN</td>\n",
       "      <td>1</td>\n",
       "    </tr>\n",
       "    <tr>\n",
       "      <th>3</th>\n",
       "      <td>04/20/2019</td>\n",
       "      <td>9:00:00 AM</td>\n",
       "      <td>4C</td>\n",
       "      <td>3500 W BELVEDERE AVE</td>\n",
       "      <td>AGG. ASSAULT</td>\n",
       "      <td>O</td>\n",
       "      <td>OTHER</td>\n",
       "      <td>614.0</td>\n",
       "      <td>NORTHWESTERN</td>\n",
       "      <td>Central Park Heights</td>\n",
       "      <td>-76.67907</td>\n",
       "      <td>39.34690</td>\n",
       "      <td>NaN</td>\n",
       "      <td>STREET</td>\n",
       "      <td>NaN</td>\n",
       "      <td>1</td>\n",
       "    </tr>\n",
       "    <tr>\n",
       "      <th>4</th>\n",
       "      <td>04/20/2019</td>\n",
       "      <td>9:00:00 AM</td>\n",
       "      <td>4C</td>\n",
       "      <td>3500 W BELVEDERE AVE</td>\n",
       "      <td>AGG. ASSAULT</td>\n",
       "      <td>O</td>\n",
       "      <td>OTHER</td>\n",
       "      <td>614.0</td>\n",
       "      <td>NORTHWESTERN</td>\n",
       "      <td>Central Park Heights</td>\n",
       "      <td>-76.67907</td>\n",
       "      <td>39.34690</td>\n",
       "      <td>NaN</td>\n",
       "      <td>STREET</td>\n",
       "      <td>NaN</td>\n",
       "      <td>1</td>\n",
       "    </tr>\n",
       "  </tbody>\n",
       "</table>\n",
       "</div>"
      ],
      "text/plain": [
       "    CrimeDate   CrimeTime CrimeCode                    Location  \\\n",
       "0  04/20/2019  9:50:00 PM        6D  MILTON AV & E BALTIMORE ST   \n",
       "1  04/20/2019  9:23:00 AM        4E              2100 CRIMEA RD   \n",
       "2  04/20/2019  9:20:00 AM        6D        2700 LIGHTHOUSE PT E   \n",
       "3  04/20/2019  9:00:00 AM        4C        3500 W BELVEDERE AVE   \n",
       "4  04/20/2019  9:00:00 AM        4C        3500 W BELVEDERE AVE   \n",
       "\n",
       "         Description Inside/Outside Weapon   Post      District  \\\n",
       "0  LARCENY FROM AUTO            NaN    NaN  222.0  SOUTHEASTERN   \n",
       "1     COMMON ASSAULT              I    NaN  821.0  SOUTHWESTERN   \n",
       "2  LARCENY FROM AUTO              I    NaN  232.0  SOUTHEASTERN   \n",
       "3       AGG. ASSAULT              O  OTHER  614.0  NORTHWESTERN   \n",
       "4       AGG. ASSAULT              O  OTHER  614.0  NORTHWESTERN   \n",
       "\n",
       "           Neighborhood  Longitude  Latitude  Location 1            Premise  \\\n",
       "0       Patterson Place  -76.58188  39.29200         NaN                NaN   \n",
       "1             Wakefield  -76.70306  39.31018         NaN  ROW/TOWNHOUSE-OCC   \n",
       "2                Canton  -76.57800  39.27800         NaN     OTHER - INSIDE   \n",
       "3  Central Park Heights  -76.67907  39.34690         NaN             STREET   \n",
       "4  Central Park Heights  -76.67907  39.34690         NaN             STREET   \n",
       "\n",
       "   crimeCaseNumber  Total Incidents  \n",
       "0              NaN                1  \n",
       "1              NaN                1  \n",
       "2              NaN                1  \n",
       "3              NaN                1  \n",
       "4              NaN                1  "
      ]
     },
     "execution_count": 3,
     "metadata": {},
     "output_type": "execute_result"
    }
   ],
   "source": [
    "crime.head()"
   ]
  },
  {
   "cell_type": "markdown",
   "metadata": {},
   "source": [
    "The only attributes we're interested in right now are the following:\n",
    "- Description (crime)\n",
    "- District (crime)\n",
    "- Total Incidents (crime)\n",
    "- name (lib)\n",
    "- policeDistrict (lib)\n",
    "\n",
    "So we remove any other columns from their respective datasets."
   ]
  },
  {
   "cell_type": "code",
   "execution_count": 4,
   "metadata": {},
   "outputs": [],
   "source": [
    "crime = crime.drop(['CrimeDate', 'CrimeTime', 'CrimeCode', 'Location 1', 'Inside/Outside', 'Weapon', 'Post', 'Neighborhood', 'Longitude', 'Latitude', 'Location', 'Premise', 'crimeCaseNumber', 'Total Incidents'], axis=1)\n",
    "lib = lib.drop(['zipCode', 'neighborhood', 'councilDistrict', 'Location 1', '2010 Census Neighborhoods', '2010 Census Wards Precincts', 'Zip Codes'], axis=1)"
   ]
  },
  {
   "cell_type": "code",
   "execution_count": null,
   "metadata": {
    "scrolled": true
   },
   "outputs": [
    {
     "data": {
      "text/html": [
       "<div>\n",
       "<style scoped>\n",
       "    .dataframe tbody tr th:only-of-type {\n",
       "        vertical-align: middle;\n",
       "    }\n",
       "\n",
       "    .dataframe tbody tr th {\n",
       "        vertical-align: top;\n",
       "    }\n",
       "\n",
       "    .dataframe thead th {\n",
       "        text-align: right;\n",
       "    }\n",
       "</style>\n",
       "<table border=\"1\" class=\"dataframe\">\n",
       "  <thead>\n",
       "    <tr style=\"text-align: right;\">\n",
       "      <th></th>\n",
       "      <th>name</th>\n",
       "      <th>policeDistrict</th>\n",
       "    </tr>\n",
       "  </thead>\n",
       "  <tbody>\n",
       "    <tr>\n",
       "      <th>0</th>\n",
       "      <td>Central</td>\n",
       "      <td>CENTRAL</td>\n",
       "    </tr>\n",
       "    <tr>\n",
       "      <th>1</th>\n",
       "      <td>Brooklyn</td>\n",
       "      <td>SOUTHERN</td>\n",
       "    </tr>\n",
       "    <tr>\n",
       "      <th>2</th>\n",
       "      <td>Canton</td>\n",
       "      <td>SOUTHEASTERN</td>\n",
       "    </tr>\n",
       "    <tr>\n",
       "      <th>3</th>\n",
       "      <td>Cherry Hill</td>\n",
       "      <td>SOUTHERN</td>\n",
       "    </tr>\n",
       "    <tr>\n",
       "      <th>4</th>\n",
       "      <td>Clifton</td>\n",
       "      <td>EASTERN</td>\n",
       "    </tr>\n",
       "  </tbody>\n",
       "</table>\n",
       "</div>"
      ],
      "text/plain": [
       "          name policeDistrict\n",
       "0      Central        CENTRAL\n",
       "1     Brooklyn       SOUTHERN\n",
       "2       Canton   SOUTHEASTERN\n",
       "3  Cherry Hill       SOUTHERN\n",
       "4      Clifton        EASTERN"
      ]
     },
     "execution_count": 5,
     "metadata": {},
     "output_type": "execute_result"
    }
   ],
   "source": [
    "lib.head()"
   ]
  },
  {
   "cell_type": "code",
   "execution_count": null,
   "metadata": {
    "scrolled": true
   },
   "outputs": [
    {
     "data": {
      "text/html": [
       "<div>\n",
       "<style scoped>\n",
       "    .dataframe tbody tr th:only-of-type {\n",
       "        vertical-align: middle;\n",
       "    }\n",
       "\n",
       "    .dataframe tbody tr th {\n",
       "        vertical-align: top;\n",
       "    }\n",
       "\n",
       "    .dataframe thead th {\n",
       "        text-align: right;\n",
       "    }\n",
       "</style>\n",
       "<table border=\"1\" class=\"dataframe\">\n",
       "  <thead>\n",
       "    <tr style=\"text-align: right;\">\n",
       "      <th></th>\n",
       "      <th>Description</th>\n",
       "      <th>District</th>\n",
       "    </tr>\n",
       "  </thead>\n",
       "  <tbody>\n",
       "    <tr>\n",
       "      <th>0</th>\n",
       "      <td>LARCENY FROM AUTO</td>\n",
       "      <td>SOUTHEASTERN</td>\n",
       "    </tr>\n",
       "    <tr>\n",
       "      <th>1</th>\n",
       "      <td>COMMON ASSAULT</td>\n",
       "      <td>SOUTHWESTERN</td>\n",
       "    </tr>\n",
       "    <tr>\n",
       "      <th>2</th>\n",
       "      <td>LARCENY FROM AUTO</td>\n",
       "      <td>SOUTHEASTERN</td>\n",
       "    </tr>\n",
       "    <tr>\n",
       "      <th>3</th>\n",
       "      <td>AGG. ASSAULT</td>\n",
       "      <td>NORTHWESTERN</td>\n",
       "    </tr>\n",
       "    <tr>\n",
       "      <th>4</th>\n",
       "      <td>AGG. ASSAULT</td>\n",
       "      <td>NORTHWESTERN</td>\n",
       "    </tr>\n",
       "  </tbody>\n",
       "</table>\n",
       "</div>"
      ],
      "text/plain": [
       "         Description      District\n",
       "0  LARCENY FROM AUTO  SOUTHEASTERN\n",
       "1     COMMON ASSAULT  SOUTHWESTERN\n",
       "2  LARCENY FROM AUTO  SOUTHEASTERN\n",
       "3       AGG. ASSAULT  NORTHWESTERN\n",
       "4       AGG. ASSAULT  NORTHWESTERN"
      ]
     },
     "execution_count": 6,
     "metadata": {},
     "output_type": "execute_result"
    }
   ],
   "source": [
    "crime.head()"
   ]
  },
  {
   "cell_type": "code",
   "execution_count": null,
   "metadata": {},
   "outputs": [
    {
     "name": "stdout",
     "output_type": "stream",
     "text": [
      "Missing values in Victim Based Crime dataset.\n",
      "Removing those instances now.\n"
     ]
    }
   ],
   "source": [
    "# determining whether there are any missing values in any columns and cleaning if necessary\n",
    "missingCrime = crime['District'].isna().any()\n",
    "missingLib = lib['policeDistrict'].isna().any()\n",
    "\n",
    "if missingCrime:\n",
    "    print(\"Missing values in Victim Based Crime dataset.\\nRemoving those instances now.\")\n",
    "    crime = crime.dropna(subset=['District'])\n",
    "    \n",
    "if missingLib:\n",
    "    print(\"Missing values in Libraries dataset.\\nRemoving those instances now.\")\n",
    "    lib = lib.dropna(subset=['policeDistrict'])"
   ]
  },
  {
   "cell_type": "code",
   "execution_count": null,
   "metadata": {
    "scrolled": false
   },
   "outputs": [],
   "source": [
    "# adding a column to crime dataset with amount of libraries in that district\n",
    "# first, we gotta create a dictionary with districts as the keys and library count as the values\n",
    "dictLib = {}\n",
    "\n",
    "for row in lib.itertuples(index=False):\n",
    "    if (row[1] in dictLib) and (dictLib.get(row[1]) >= 1):\n",
    "        dictLib[row[1]] = dictLib.get(row[1]) + 1\n",
    "    else:\n",
    "        dictLib[row[1]] = 1\n",
    "\n",
    "# array of library counts that correspond to each index of crime dataset\n",
    "libCount = []        \n",
    "\n",
    "# using dictLib to find amount of libraries for each district that a crime is committed in\n",
    "for crimes in crime.itertuples(index=False):\n",
    "    numLib = 0 if not dictLib.get(crimes[1]) else dictLib.get(crimes[1])\n",
    "    libCount.append(numLib)\n",
    "\n",
    "# adding that list to crime dataset\n",
    "crime['Library Count'] = libCount"
   ]
  },
  {
   "cell_type": "code",
   "execution_count": null,
   "metadata": {},
   "outputs": [
    {
     "data": {
      "text/html": [
       "<div>\n",
       "<style scoped>\n",
       "    .dataframe tbody tr th:only-of-type {\n",
       "        vertical-align: middle;\n",
       "    }\n",
       "\n",
       "    .dataframe tbody tr th {\n",
       "        vertical-align: top;\n",
       "    }\n",
       "\n",
       "    .dataframe thead th {\n",
       "        text-align: right;\n",
       "    }\n",
       "</style>\n",
       "<table border=\"1\" class=\"dataframe\">\n",
       "  <thead>\n",
       "    <tr style=\"text-align: right;\">\n",
       "      <th></th>\n",
       "      <th>Description</th>\n",
       "      <th>District</th>\n",
       "      <th>Library Count</th>\n",
       "    </tr>\n",
       "  </thead>\n",
       "  <tbody>\n",
       "    <tr>\n",
       "      <th>0</th>\n",
       "      <td>LARCENY FROM AUTO</td>\n",
       "      <td>SOUTHEASTERN</td>\n",
       "      <td>4</td>\n",
       "    </tr>\n",
       "    <tr>\n",
       "      <th>1</th>\n",
       "      <td>COMMON ASSAULT</td>\n",
       "      <td>SOUTHWESTERN</td>\n",
       "      <td>2</td>\n",
       "    </tr>\n",
       "    <tr>\n",
       "      <th>2</th>\n",
       "      <td>LARCENY FROM AUTO</td>\n",
       "      <td>SOUTHEASTERN</td>\n",
       "      <td>4</td>\n",
       "    </tr>\n",
       "    <tr>\n",
       "      <th>3</th>\n",
       "      <td>AGG. ASSAULT</td>\n",
       "      <td>NORTHWESTERN</td>\n",
       "      <td>2</td>\n",
       "    </tr>\n",
       "    <tr>\n",
       "      <th>4</th>\n",
       "      <td>AGG. ASSAULT</td>\n",
       "      <td>NORTHWESTERN</td>\n",
       "      <td>2</td>\n",
       "    </tr>\n",
       "  </tbody>\n",
       "</table>\n",
       "</div>"
      ],
      "text/plain": [
       "         Description      District  Library Count\n",
       "0  LARCENY FROM AUTO  SOUTHEASTERN              4\n",
       "1     COMMON ASSAULT  SOUTHWESTERN              2\n",
       "2  LARCENY FROM AUTO  SOUTHEASTERN              4\n",
       "3       AGG. ASSAULT  NORTHWESTERN              2\n",
       "4       AGG. ASSAULT  NORTHWESTERN              2"
      ]
     },
     "execution_count": 9,
     "metadata": {},
     "output_type": "execute_result"
    }
   ],
   "source": [
    "crime.head()"
   ]
  },
  {
   "cell_type": "code",
   "execution_count": null,
   "metadata": {},
   "outputs": [],
   "source": [
    "ax = crime.plot.bar(rot=0)"
   ]
  },
  {
   "cell_type": "code",
   "execution_count": null,
   "metadata": {},
   "outputs": [],
   "source": [
    "crime['Description'].value_counts()"
   ]
  },
  {
   "cell_type": "code",
   "execution_count": null,
   "metadata": {},
   "outputs": [],
   "source": [
    "crime['District'].value_counts()"
   ]
  },
  {
   "cell_type": "code",
   "execution_count": null,
   "metadata": {},
   "outputs": [],
   "source": []
  }
 ],
 "metadata": {
  "kernelspec": {
   "display_name": "Python 3",
   "language": "python",
   "name": "python3"
  },
  "language_info": {
   "codemirror_mode": {
    "name": "ipython",
    "version": 3
   },
   "file_extension": ".py",
   "mimetype": "text/x-python",
   "name": "python",
   "nbconvert_exporter": "python",
   "pygments_lexer": "ipython3",
   "version": "3.7.3"
  }
 },
 "nbformat": 4,
 "nbformat_minor": 2
}
